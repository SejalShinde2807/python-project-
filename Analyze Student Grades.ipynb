{
 "cells": [
  {
   "cell_type": "code",
   "execution_count": 1,
   "id": "ae66dedb-5cc6-464f-9df0-ef8fb011aee1",
   "metadata": {},
   "outputs": [],
   "source": [
    "#Python Project : Analyze Student Grades "
   ]
  },
  {
   "cell_type": "code",
   "execution_count": 7,
   "id": "6b11681d-75f4-4edd-ae06-c5a06ea1df97",
   "metadata": {},
   "outputs": [
    {
     "name": "stdout",
     "output_type": "stream",
     "text": [
      "Welcome to the Student Grades Analyzer!\n"
     ]
    },
    {
     "name": "stdout",
     "output_type": "stream",
     "text": [
      "Enter student's name (or 'done' to finish):  Sejal\n",
      "Enter grade for Sejal:  80\n",
      "Enter student's name (or 'done' to finish):  Sass\n",
      "Enter grade for Sass:  89\n",
      "Enter student's name (or 'done' to finish):  Tanu\n",
      "Enter grade for Tanu:  87\n",
      "Enter student's name (or 'done' to finish):  Kumud\n",
      "Enter grade for Kumud:  88\n",
      "Enter student's name (or 'done' to finish):  done\n"
     ]
    },
    {
     "name": "stdout",
     "output_type": "stream",
     "text": [
      "\n",
      "Grade Summary:\n",
      "Total number of students: 4\n",
      "Average grade: 86.00\n",
      "Highest grade: 89.0 (Student: Sass)\n",
      "Lowest grade: 80.0 (Student: Sejal)\n",
      "\n",
      "Individual Grades:\n",
      "Sejal: 80.0\n",
      "Sass: 89.0\n",
      "Tanu: 87.0\n",
      "Kumud: 88.0\n"
     ]
    }
   ],
   "source": [
    "# Function to input student grades\n",
    "def input_student_grades():\n",
    "    students = []\n",
    "    grades = []\n",
    "    \n",
    "    while True:\n",
    "        name = input(\"Enter student's name (or 'done' to finish): \")\n",
    "        if name.lower() == 'done':\n",
    "            break\n",
    "        try:\n",
    "            grade = float(input(f\"Enter grade for {name}: \"))\n",
    "        except ValueError:\n",
    "            print(\"Invalid input. Please enter a valid grade.\")\n",
    "            continue\n",
    "\n",
    "        students.append(name)\n",
    "        grades.append(grade)\n",
    "    \n",
    "    return students, grades\n",
    "\n",
    "# Function to calculate the average grade\n",
    "def calculate_average(grades):\n",
    "    if len(grades) == 0:\n",
    "        return 0\n",
    "    return sum(grades) / len(grades)\n",
    "\n",
    "# Function to find the highest and lowest grade\n",
    "def find_highest_lowest(grades, students):\n",
    "    if len(grades) == 0:\n",
    "        return None, None\n",
    "    highest_grade = max(grades)\n",
    "    lowest_grade = min(grades)\n",
    "    highest_student = students[grades.index(highest_grade)]\n",
    "    lowest_student = students[grades.index(lowest_grade)]\n",
    "    \n",
    "    return (highest_student, highest_grade), (lowest_student, lowest_grade)\n",
    "\n",
    "# Function to print the summary of grades\n",
    "def print_summary(students, grades):\n",
    "    if len(students) == 0:\n",
    "        print(\"No student data available.\")\n",
    "        return\n",
    "    \n",
    "    average = calculate_average(grades)\n",
    "    highest, lowest = find_highest_lowest(grades, students)\n",
    "    \n",
    "    print(\"\\nGrade Summary:\")\n",
    "    print(f\"Total number of students: {len(students)}\")\n",
    "    print(f\"Average grade: {average:.2f}\")\n",
    "    print(f\"Highest grade: {highest[1]} (Student: {highest[0]})\")\n",
    "    print(f\"Lowest grade: {lowest[1]} (Student: {lowest[0]})\")\n",
    "    \n",
    "    # Display individual grades\n",
    "    print(\"\\nIndividual Grades:\")\n",
    "    for student, grade in zip(students, grades):\n",
    "        print(f\"{student}: {grade}\")\n",
    "\n",
    "# Main function to execute the project\n",
    "def main():\n",
    "    print(\"Welcome to the Student Grades Analyzer!\")\n",
    "    \n",
    "    # Input student grades\n",
    "    students, grades = input_student_grades()\n",
    "    \n",
    "    # Generate the summary report\n",
    "    print_summary(students, grades)\n",
    "\n",
    "# Run the program\n",
    "if __name__ == \"__main__\":\n",
    "    main()"
   ]
  },
  {
   "cell_type": "code",
   "execution_count": null,
   "id": "9548c154-b93f-4427-98ef-877e9a1890ee",
   "metadata": {},
   "outputs": [],
   "source": []
  }
 ],
 "metadata": {
  "kernelspec": {
   "display_name": "Python 3 (ipykernel)",
   "language": "python",
   "name": "python3"
  },
  "language_info": {
   "codemirror_mode": {
    "name": "ipython",
    "version": 3
   },
   "file_extension": ".py",
   "mimetype": "text/x-python",
   "name": "python",
   "nbconvert_exporter": "python",
   "pygments_lexer": "ipython3",
   "version": "3.12.4"
  }
 },
 "nbformat": 4,
 "nbformat_minor": 5
}
